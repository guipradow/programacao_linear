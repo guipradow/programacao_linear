{
 "cells": [
  {
   "cell_type": "markdown",
   "metadata": {},
   "source": [
    "# Bibliotecas"
   ]
  },
  {
   "cell_type": "code",
   "execution_count": 1,
   "metadata": {},
   "outputs": [],
   "source": [
    "import numpy as np\n",
    "import matplotlib.pyplot as plt\n",
    "from ipywidgets import interact"
   ]
  },
  {
   "cell_type": "markdown",
   "metadata": {
    "vscode": {
     "languageId": "plaintext"
    }
   },
   "source": [
    "<center><h1>Introdução à Programação Linear</h1></center>"
   ]
  },
  {
   "cell_type": "markdown",
   "metadata": {
    "vscode": {
     "languageId": "plaintext"
    }
   },
   "source": [
    "<p>A WYNDOR GlASS CO. fabrica produtos de vidro de alta qualidade, entre os quais janelas e portas de vidro. A empresa possui três fábricas industriais. As esquadrias de alumínio e ferragens são feitas na Fábrica 1, as esquadrias de madeira são produzidas na Fábrica 2 e, finalmente, a Fábrica 3 produz o vidro e monta os produtos.</p>\n",
    "<p style='text-indent: 20px'>Em consequência da queda nos lucros, a direção decidiu modernizar a linha de produtos da empresa. Produtos não rentáveis estão sendo descontinuados, liberando a capacidadde produtiva para o lançamento de dois novos produtos com grande portencial de vendas:</p>  \n",
    "\n",
    "<p style='margin-left: 20px'>Produto 1: uma porta de vidro de 2,5 m com esquadria de alumínio</br>\n",
    "Produto 2: uma janela duplamente adornada com esquadrias de madeira de 1,20 m x 1,80 m</p>\n",
    "\n",
    "<p style='text-indent: 20px'>O produto 1 requer parte da capacidade produtiva das Fábricas 1 e 3, mas nenhuma da Fábrica 2. O produto 2 precisa apenas das Fábricas 2 e 3. A divisão de marketing concluiu que a empresa poderia vender tanto quanto fosse possível produzir nessas fábricas. Entretanto, pelo fato de ambos os produtos competirem pela mesma capacidade produtiva na Fábrica 3, não está claro qual <i>mix</i> dos dois produtos seria o mais lucrativo.\n",
    "Portanto, constituiu-se uma equipe de PO para estudar essa questão.</p>\n",
    "\n",
    "<p style='text-indent: 20px'>A equipe de PO começou promovendo discurssões com a alta direção para identificar os objetivos da diretoria para tal estudo. Essas discussões levaram à seguinte definição do problema</p>\n",
    "<p style='margin-left: 20px'>Determinar quais devem ser as <i>taxas de produção</i> para ambos os produtos de modo a <i>maximizar</i> o <i>lucro total</i>, sujeito às restrições impostas pela capacidade produtiva limitada disponível nas três fábricas. (Cada produto será fabricado em lotes de 20, de modo que a <i>taxa de produção</i> é definida como o número de lotes produzidos por semana). É permitida <i>qualquer</i> comnbinação de taxas de produção que satisfaça essas restrições, inclusive não produzir nada de um produto e o máximo possível de outro.</p>\n",
    "\n",
    "<p style='text-indent: 20px'>A equipe de PO também identificou os dados que precisavam ser coletados:</p>\n",
    "\n",
    "1. Número de horas de produção disponível por semana em cada fábrica para esse novos produtos (A maior parte do tempo nessas fábricas já está comprometida com os produtos atuais, de modo que a capacidade disponível para os novos produtos é bastante limitada).\n",
    "2. Número de horas de produção usada em fábrica para cada lote produzido de cada novo produto.\n",
    "3. Lucro por lote produzido de cada novo produto. Foi escolhido o *lucro por lote produzido* como uma medida apropriada após a equipe de PO ter concluído que o incremento do lucro de cada lote adicional produzido ser mais ou menos *constante*, independentemente do número total de lotes produzidos. Pelo fato de nenhum custo adicional incorrer para o inívio da produção e a comercialização desses produtos, o lucro total de cada um deles é aproximadamente esse *lucro por lote* vezes o *número de lotes produzidos*.\n",
    "\n",
    "<p style='text-indent: 20px'>Obter estimativas razoáveis dessas quantidades exigia obter o apoio de pessoal-chave em várias unidades da empresa. O pessoal da divisão de manufatura forneceu os dados da primeira categoria citada anteriormente. Desenvolver estimativas para a segunda categoria de dados exigia alguma análise por parte dos engenheiros de produção envolvidos no desenvolvimento de processos de produção para os novos produtos. Analisando-se os dados de custos obtidos desses mesmos engenheiros e da divisão de marketing, junto com uma decisão de preços do mesmo departamento, o setor de contabilidade desenvolveu estimativas para a terceira categoria.</p>\n",
    "<p style='text-indent: 20px'>A Tabela a seguir sintetiza os dados reunidos:</p>\n",
    "    "
   ]
  },
  {
   "cell_type": "markdown",
   "metadata": {
    "vscode": {
     "languageId": "plaintext"
    }
   },
   "source": [
    "<table>\n",
    "        <thead>\n",
    "            <tr>\n",
    "                <th rowspan=\"2\">Fábrica</th>\n",
    "                <th colspan=\"2\">Tempo de produção por lote (em horas)</th>\n",
    "                <th rowspan=\"2\">Tempo de produção disponível por semana (em horas)</th>\n",
    "            </tr>\n",
    "            <tr>\n",
    "                <th>Produto 1</th>\n",
    "                <th>Produto 2</th>\n",
    "            </tr>\n",
    "        </thead>\n",
    "        <tbody>\n",
    "            <tr>\n",
    "                <td>1</td>\n",
    "                <td>1</td>\n",
    "                <td>0</td>\n",
    "                <td>4</td>\n",
    "            </tr>\n",
    "            <tr>\n",
    "                <td>2</td>\n",
    "                <td>0</td>\n",
    "                <td>2</td>\n",
    "                <td>12</td>\n",
    "            </tr>\n",
    "            <tr>\n",
    "                <td>3</td>\n",
    "                <td>3</td>\n",
    "                <td>2</td>\n",
    "                <td>18</td>\n",
    "            </tr>\n",
    "            <tr>\n",
    "                <td><strong>Lucro por lote</strong></td>\n",
    "                <td><strong>US$ 3.000,00</strong></td>\n",
    "                <td><strong>US$ 5.000,00</strong></td>\n",
    "                <td></td>\n",
    "            </tr>\n",
    "        </tbody>\n",
    "    </table>"
   ]
  },
  {
   "cell_type": "markdown",
   "metadata": {
    "vscode": {
     "languageId": "plaintext"
    }
   },
   "source": [
    "<h2>Formulação - Problema de Programação Linear</h2>"
   ]
  },
  {
   "cell_type": "markdown",
   "metadata": {},
   "source": [
    "$x_1$ = número de lotes do produto 1 produzido semanalmente  \n",
    "$x_2$ = número de lotes do produto 2 produzido semanalmente  \n",
    "$Z$ = lucro total por semnana (em milhares de dólares) obtido pela produção desses dois produtos\n",
    "\n",
    "\\begin{equation}\n",
    "Z = 3x_1 + 5x_2\n",
    "\\end{equation}"
   ]
  },
  {
   "cell_type": "markdown",
   "metadata": {
    "vscode": {
     "languageId": "plaintext"
    }
   },
   "source": [
    "O objetivo é escolher os valores de $x_1$, $x_2$ que maximizam $Z$, sujeito às restrições de capacidade disoponível nas três fábricas.  \n",
    "Na linguagem matemática de programação linear, o problema é escolher os valores de $x_1$ e $x_2$ de forma a "
   ]
  },
  {
   "cell_type": "markdown",
   "metadata": {
    "vscode": {
     "languageId": "plaintext"
    }
   },
   "source": [
    "Maximizar $Z = 3x_1 + 5x_2$  \n",
    "sujeito às restrições  \n",
    "$x_1 \\leq 4$  \n",
    "$2x_2 \\leq 12$  \n",
    "$3x_1 + 2x_2 \\leq 18$  \n",
    "e  \n",
    "$x_1\\geq0$,   $x_2\\geq0$"
   ]
  },
  {
   "cell_type": "markdown",
   "metadata": {
    "vscode": {
     "languageId": "plaintext"
    }
   },
   "source": [
    "<h2>Solução Gráfica</h2>"
   ]
  },
  {
   "cell_type": "code",
   "execution_count": 2,
   "metadata": {},
   "outputs": [
    {
     "data": {
      "application/vnd.jupyter.widget-view+json": {
       "model_id": "84fd1f7fec3042a693bb6b5703f5a875",
       "version_major": 2,
       "version_minor": 0
      },
      "text/plain": [
       "interactive(children=(IntSlider(value=25, description='Z', max=50), Output()), _dom_classes=('widget-interact'…"
      ]
     },
     "metadata": {},
     "output_type": "display_data"
    }
   ],
   "source": [
    "@interact(Z=(0, 50, 1))\n",
    "def plotar_linhas(Z):\n",
    "    fig, ax = plt.subplots(figsize=(9, 6))\n",
    "    # Definindo as restrições\n",
    "    # Restrição de competição de tempo disponível na Fábrica 3\n",
    "    # 3x1 + 2x2 <= 18 -> x2 <= (18 - 3x1)/2\n",
    "    # x2 = 0 -> x1 = 6\n",
    "    x1 = np.linspace(0, 6, 600)\n",
    "    x2 = (18 - 3*x1) / 2\n",
    "    plt.plot(x1, x2, label=f'$3x_1 + 2x_2 \\\\leq 18$')\n",
    "\n",
    "    # Restrição de tempo disponível na Fábrica 1 para o produto 1\n",
    "    # x1 <= 4\n",
    "    plt.axvline(4, c='r', label=f'$x_1\\\\leq4$')\n",
    "\n",
    "    # Restrição de tempo disponível na Fábrica 2 para o produto 2\n",
    "    # 2x2 <= 12 -> x2 <= 6\n",
    "    plt.axhline(6, c='g', label=f'$2x_2\\\\leq12$')\n",
    "\n",
    "    # Preenchendo a região permissível\n",
    "    X1, X2 = np.meshgrid(np.linspace(0, 8, 700), np.linspace(0, 11, 1_000))\n",
    "    region = (3*X1 + 2*X2 <= 18) & (X1 <= 4) & (2*X2 <= 12)\n",
    "    plt.imshow(region.astype(int), extent=(0, 8 ,0, 11), origin='lower', cmap='Greys', alpha=0.3)\n",
    "\n",
    "    # Valor de x2 variando Z\n",
    "    x2_obj = (-3*x1 + Z) / 5\n",
    "    ax.plot(x1, x2_obj, 'm--', label=fr'$3x_1 + 5x_2 = {Z}$')\n",
    "\n",
    "    # Limitando e ajustando os tickers\n",
    "    ax.set_xticks(np.arange(0, 8, 1))\n",
    "    ax.set_yticks(np.arange(0, 11, 1))\n",
    "    ax.set_xlim(0, 8)\n",
    "    ax.set_ylim(0, 11)\n",
    "\n",
    "    # Ajustando os eixos\n",
    "    ax.spines['left'].set_position('zero')\n",
    "    ax.spines['bottom'].set_position('zero')\n",
    "    ax.spines['right'].set_visible(False)\n",
    "    ax.spines['top'].set_visible(False)\n",
    "\n",
    "    ax.legend()\n",
    "    plt.show()"
   ]
  },
  {
   "cell_type": "markdown",
   "metadata": {},
   "source": [
    "# Referências\n",
    "HILLIER, Frederick S.; LIEBERMAN, Gerald J. Introdução à pesquisa operacional. 9. ed. Porto Alegre: Bookman, 2013. 1005 p. ISBN 978-85-8055-118-1."
   ]
  }
 ],
 "metadata": {
  "kernelspec": {
   "display_name": ".venv",
   "language": "python",
   "name": "python3"
  },
  "language_info": {
   "codemirror_mode": {
    "name": "ipython",
    "version": 3
   },
   "file_extension": ".py",
   "mimetype": "text/x-python",
   "name": "python",
   "nbconvert_exporter": "python",
   "pygments_lexer": "ipython3",
   "version": "3.13.5"
  }
 },
 "nbformat": 4,
 "nbformat_minor": 2
}
